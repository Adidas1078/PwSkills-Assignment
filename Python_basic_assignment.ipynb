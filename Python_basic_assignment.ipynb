{
  "nbformat": 4,
  "nbformat_minor": 0,
  "metadata": {
    "colab": {
      "provenance": []
    },
    "kernelspec": {
      "name": "python3",
      "display_name": "Python 3"
    },
    "language_info": {
      "name": "python"
    }
  },
  "cells": [
    {
      "cell_type": "markdown",
      "source": [
        "# Python Basic Assignment\n"
      ],
      "metadata": {
        "id": "4a7Y9_3ZeX_n"
      }
    },
    {
      "cell_type": "markdown",
      "source": [
        "1. What is Python, and why is it popular?\n",
        "   - Python is a high-level, interpreted programming language known for its simplicity, readability, and versatility. It is popular because it's easy to learn, works across platforms, has a rich library ecosystem, and is widely used in fields like web development, data science, AI, automation, and more.\n",
        "\n",
        "2. What is an interpreter in Python?\n",
        "   - In Python, an interpreter is the program that reads and executes Python code line by line, translating it into machine code that the computer can understand.\n",
        "\n",
        "3. What are pre-defined keywords in Python?\n",
        "   - Pre-defined keywords in Python are reserved words that have special meanings in the language and are used to define its syntax and structure.\n",
        "   For example if, else, int, while, for, import, etc.\n",
        "\n",
        "4. Can keywords be used as variable names?\n",
        "   - No, you can't use keywords as variable names, function names or identifiers.\n",
        "\n",
        "5. What is mutability in Python?\n",
        "   - In Python, mutability refers to whether an object's value can be changed after it is created.\n",
        "\n",
        "6. Why are lists mutable, but tuples are immutable?\n",
        "   - Lists are mutable because Python stores them as dynamic arrays in memory, allowing you to change, add, or remove elements without creating a new object. Tuples are immutable because their design is meant for fixed collections of items. Once a tuple is created, Python does not allow changing its contents—this makes them hashable and more memory-efficient and faster for fixed data.\n",
        "\n",
        "7. What is the difference between “==” and “is” operators in Python?\n",
        "   - \"==\" or equality operator checks if the values of two objects are the same. Whereas \"is\" or identity operator checks if two variables refer to the exact same object in memory.\n",
        "\n",
        "8. What are logical operators in Python?\n",
        "   - Logical operators in Python are used to combine conditional statements and return a Boolean value (True or False). There are three types of conditional operators:\n",
        "     - and -> returns True if both conditions are true.\n",
        "     - or -> returns True if at least one condition is true.\n",
        "     - not -> reverses the Boolean value (True → False, False → True).\n",
        "  \n",
        "9. What is type casting in Python?\n",
        "   - Type casting in Python is the process of converting one data type into another.\n",
        "\n",
        "10. What is the difference between implicit and explicit type casting?\n",
        "    - Implicit type casting is when Python automatically converts one data type to another, while explicit type casting is when the programmer manually converts a data type using functions like int(), float(), or str().\n",
        "\n",
        "11. What is the purpose of conditional statements in Python?\n",
        "    - The purpose of conditional statements in Python is to make decisions in a program by executing certain blocks of code only if specific conditions are true.\n",
        "\n",
        "12. How does the elif statement work?\n",
        "    - The elif statement in Python means \"else if\" and lets you check multiple conditions in order, executing the first one that's True and skipping the rest.\n",
        "\n",
        "13. What is the difference between for and while loops?\n",
        "    - A for loop runs for each item in a sequence or a fixed range, while a while loop runs repeatedly as long as a condition is true.\n",
        "\n",
        "14. Describe a scenario where a while loop is more suitable than a for loop?\n",
        "    - A while loop is more suitable when you don't know in advance how many times the loop should run, such as reading user input until they type “exit”.\n"
      ],
      "metadata": {
        "id": "6ZJwGAKReb_d"
      }
    },
    {
      "cell_type": "code",
      "execution_count": 1,
      "metadata": {
        "colab": {
          "base_uri": "https://localhost:8080/"
        },
        "id": "rfzwfX3MeVEV",
        "outputId": "17eab324-af12-4c61-d7e1-deb995b8bdd5"
      },
      "outputs": [
        {
          "output_type": "stream",
          "name": "stdout",
          "text": [
            "Hello, World!\n"
          ]
        }
      ],
      "source": [
        "#1. Write a Python program to print \"Hello, World!\"\n",
        "print(\"Hello, World!\")"
      ]
    },
    {
      "cell_type": "code",
      "source": [
        "#2. Write a Python program that displays your name and age\n",
        "name = input(\"Enter your name: \")\n",
        "age = int(input(\"Enter your age: \"))\n",
        "print(\"Name:\", name)\n",
        "print(\"Age:\", age)"
      ],
      "metadata": {
        "colab": {
          "base_uri": "https://localhost:8080/"
        },
        "id": "PDMsICgmnO-O",
        "outputId": "e959a30f-c0e1-44f5-8bbb-80840d8db2af"
      },
      "execution_count": 4,
      "outputs": [
        {
          "output_type": "stream",
          "name": "stdout",
          "text": [
            "Enter your name: Aditya\n",
            "Enter your age: 22\n",
            "Name: Aditya\n",
            "Age: 22\n"
          ]
        }
      ]
    },
    {
      "cell_type": "code",
      "source": [
        "#3. Write code to print all the pre-defined keywords in Python using the keyword library\n",
        "import keyword\n",
        "print(\"Python Keywords:\")\n",
        "print(keyword.kwlist)"
      ],
      "metadata": {
        "colab": {
          "base_uri": "https://localhost:8080/"
        },
        "id": "SUD1QxTEoItd",
        "outputId": "fb3a92a7-0705-463e-fb1b-96d43f59c91b"
      },
      "execution_count": 5,
      "outputs": [
        {
          "output_type": "stream",
          "name": "stdout",
          "text": [
            "Python Keywords:\n",
            "['False', 'None', 'True', 'and', 'as', 'assert', 'async', 'await', 'break', 'class', 'continue', 'def', 'del', 'elif', 'else', 'except', 'finally', 'for', 'from', 'global', 'if', 'import', 'in', 'is', 'lambda', 'nonlocal', 'not', 'or', 'pass', 'raise', 'return', 'try', 'while', 'with', 'yield']\n"
          ]
        }
      ]
    },
    {
      "cell_type": "code",
      "source": [
        "#4. Write a program that checks if a given word is a Python keyword.\n",
        "import keyword\n",
        "word = input(\"Enter the word: \")\n",
        "if keyword.iskeyword(word):\n",
        "    print(f\"'{word}' is a Python keyword.\")\n",
        "else:\n",
        "    print(f\"'{word}' is NOT a Python keyword.\")\n",
        "\n"
      ],
      "metadata": {
        "colab": {
          "base_uri": "https://localhost:8080/"
        },
        "id": "imm-PGsMon4l",
        "outputId": "c3867569-186b-4a16-83c4-6584e221b725"
      },
      "execution_count": 7,
      "outputs": [
        {
          "output_type": "stream",
          "name": "stdout",
          "text": [
            "Enter the word: if\n",
            "'if' is a Python keyword.\n"
          ]
        }
      ]
    },
    {
      "cell_type": "code",
      "source": [
        "#5.  Create a list and tuple in Python, and demonstrate how attempting to change an element works differently for each.\n",
        "my_list = [10, 20, 30]\n",
        "my_tuple = (10, 20, 30)\n",
        "\n",
        "my_list[1] = 200\n",
        "print(\"Updated List:\", my_list)\n",
        "\n",
        "try:\n",
        "    my_tuple[1] = 200\n",
        "except TypeError as e:\n",
        "    print(\"Error with Tuple:\", e)"
      ],
      "metadata": {
        "colab": {
          "base_uri": "https://localhost:8080/"
        },
        "id": "EDoHiH9Qpyam",
        "outputId": "752fd4a4-5231-4c02-9a48-20bcd4225709"
      },
      "execution_count": 8,
      "outputs": [
        {
          "output_type": "stream",
          "name": "stdout",
          "text": [
            "Updated List: [10, 200, 30]\n",
            "Error with Tuple: 'tuple' object does not support item assignment\n"
          ]
        }
      ]
    },
    {
      "cell_type": "code",
      "source": [
        "#6.  Write a function to demonstrate the behavior of mutable and immutable arguments.\n",
        "def change_values(a, b):\n",
        "    a = a + 5\n",
        "    b.append(4)\n",
        "\n",
        "x = 10           # Immutable (int)\n",
        "y = [1, 2, 3]    # Mutable (list)\n",
        "\n",
        "change_values(x, y)\n",
        "\n",
        "print(\"x =\", x)\n",
        "print(\"y =\", y)"
      ],
      "metadata": {
        "colab": {
          "base_uri": "https://localhost:8080/"
        },
        "id": "RuVQ30LJqPEF",
        "outputId": "cbfff5e2-797a-4002-8cf3-fe69f2532c77"
      },
      "execution_count": 9,
      "outputs": [
        {
          "output_type": "stream",
          "name": "stdout",
          "text": [
            "x = 10\n",
            "y = [1, 2, 3, 4]\n"
          ]
        }
      ]
    },
    {
      "cell_type": "code",
      "source": [
        "#7. Write a program that performs basic arithmetic operations on two user-input numbers.\n",
        "num1 = float(input(\"Enter first number: \"))\n",
        "num2 = float(input(\"Enter second number: \"))\n",
        "\n",
        "print(\"Addition:\", num1 + num2)\n",
        "print(\"Subtraction:\", num1 - num2)\n",
        "print(\"Multiplication:\", num1 * num2)\n",
        "print(\"Division:\", num1 / num2 if num2 != 0 else \"Cannot divide by zero\")\n"
      ],
      "metadata": {
        "colab": {
          "base_uri": "https://localhost:8080/"
        },
        "id": "mBAOUQnXq6kt",
        "outputId": "846bd84c-4410-462d-9036-8ef2e3419e4c"
      },
      "execution_count": 10,
      "outputs": [
        {
          "output_type": "stream",
          "name": "stdout",
          "text": [
            "Enter first number: 12\n",
            "Enter second number: 13\n",
            "Addition: 25.0\n",
            "Subtraction: -1.0\n",
            "Multiplication: 156.0\n",
            "Division: 0.9230769230769231\n"
          ]
        }
      ]
    },
    {
      "cell_type": "code",
      "source": [
        "#8. Write a program to demonstrate the use of logical operators.\n",
        "age = int(input(\"Enter your age: \"))\n",
        "has_id = input(\"Do you have an ID? (yes/no): \").lower() == \"yes\"\n",
        "\n",
        "if age >= 18 and has_id:\n",
        "    print(\"You are eligible to vote.\")\n",
        "elif age >= 18 and not has_id:\n",
        "    print(\"You need an ID to vote.\")\n",
        "else:\n",
        "    print(\"You are not eligible to vote.\")\n",
        "\n",
        "if age < 18 or not has_id:\n",
        "    print(\"Either age is less than 18 OR you don't have an ID.\")"
      ],
      "metadata": {
        "colab": {
          "base_uri": "https://localhost:8080/"
        },
        "id": "uNeVJ1hRrjnW",
        "outputId": "0f5fbb11-74ea-49e1-82b8-725cebc84473"
      },
      "execution_count": 11,
      "outputs": [
        {
          "output_type": "stream",
          "name": "stdout",
          "text": [
            "Enter your age: 22\n",
            "Do you have an ID? (yes/no): yes\n",
            "You are eligible to vote.\n"
          ]
        }
      ]
    },
    {
      "cell_type": "code",
      "source": [
        "#9. Write a Python program to convert user input from string to integer, float, and boolean types.\n",
        "value = input(\"Enter a value: \")\n",
        "\n",
        "print(\"As Integer:\", int(value))\n",
        "print(\"As Float:\", float(value))\n",
        "print(\"As Boolean:\", bool(value))"
      ],
      "metadata": {
        "colab": {
          "base_uri": "https://localhost:8080/"
        },
        "id": "eBZ8y2xbsFlg",
        "outputId": "6c1620df-e15b-4828-9787-508c18d381c8"
      },
      "execution_count": 15,
      "outputs": [
        {
          "output_type": "stream",
          "name": "stdout",
          "text": [
            "Enter a value: 12\n",
            "As Integer: 12\n",
            "As Float: 12.0\n",
            "As Boolean: True\n"
          ]
        }
      ]
    },
    {
      "cell_type": "code",
      "source": [
        "#10. Write code to demonstrate type casting with list elements.\n",
        "str_list = [\"10\", \"20\", \"30\"]\n",
        "\n",
        "int_list = [int(x) for x in str_list]\n",
        "\n",
        "float_list = [float(x) for x in str_list]\n",
        "\n",
        "print(\"Original List:\", str_list)\n",
        "print(\"As Integers:\", int_list)\n",
        "print(\"As Floats:\", float_list)"
      ],
      "metadata": {
        "colab": {
          "base_uri": "https://localhost:8080/"
        },
        "id": "X4DCFFT4tCHe",
        "outputId": "7ec10162-c223-4223-e4aa-7bbebb3beccd"
      },
      "execution_count": 16,
      "outputs": [
        {
          "output_type": "stream",
          "name": "stdout",
          "text": [
            "Original List: ['10', '20', '30']\n",
            "As Integers: [10, 20, 30]\n",
            "As Floats: [10.0, 20.0, 30.0]\n"
          ]
        }
      ]
    },
    {
      "cell_type": "code",
      "source": [
        "#11. Write a program that checks if a number is positive, negative, or zero.\n",
        "num = float(input(\"Enter a number: \"))\n",
        "\n",
        "if num > 0:\n",
        "    print(\"The number is Positive.\")\n",
        "elif num < 0:\n",
        "    print(\"The number is Negative.\")\n",
        "else:\n",
        "    print(\"The number is Zero.\")"
      ],
      "metadata": {
        "colab": {
          "base_uri": "https://localhost:8080/"
        },
        "id": "7jLBQXpAtgx-",
        "outputId": "e82fd16d-adfd-49eb-8289-96b891737c0a"
      },
      "execution_count": 17,
      "outputs": [
        {
          "output_type": "stream",
          "name": "stdout",
          "text": [
            "Enter a number: 12.5\n",
            "The number is Positive.\n"
          ]
        }
      ]
    },
    {
      "cell_type": "code",
      "source": [
        "#12.  Write a for loop to print numbers from 1 to 10.\n",
        "for i in range(1,11):\n",
        "  print(i)\n"
      ],
      "metadata": {
        "colab": {
          "base_uri": "https://localhost:8080/"
        },
        "id": "J6GP7fY3t0TG",
        "outputId": "f2754d25-5093-4dce-b343-eae8567043c5"
      },
      "execution_count": 18,
      "outputs": [
        {
          "output_type": "stream",
          "name": "stdout",
          "text": [
            "1\n",
            "2\n",
            "3\n",
            "4\n",
            "5\n",
            "6\n",
            "7\n",
            "8\n",
            "9\n",
            "10\n"
          ]
        }
      ]
    },
    {
      "cell_type": "code",
      "source": [
        "#13. Write a Python program to find the sum of all even numbers between 1 and 50.\n",
        "total = 0\n",
        "for i in range(2, 51, 2):\n",
        "    total += i\n",
        "\n",
        "print(\"Sum of even numbers between 1 and 50:\", total)"
      ],
      "metadata": {
        "colab": {
          "base_uri": "https://localhost:8080/"
        },
        "id": "PzkHxMaFuQUe",
        "outputId": "236600d3-5e40-4342-a5a4-f79e0314ba65"
      },
      "execution_count": 19,
      "outputs": [
        {
          "output_type": "stream",
          "name": "stdout",
          "text": [
            "Sum of even numbers between 1 and 50: 650\n"
          ]
        }
      ]
    },
    {
      "cell_type": "code",
      "source": [
        "#14. Write a program to reverse a string using a while loop\n",
        "text = input(\"Enter a string: \")\n",
        "i = -1\n",
        "\n",
        "while i >= -len(text):\n",
        "    print(text[i], end=\"\")\n",
        "    i -= 1\n"
      ],
      "metadata": {
        "colab": {
          "base_uri": "https://localhost:8080/"
        },
        "id": "43_KXzZ0uipe",
        "outputId": "1ab6c1a7-24d5-4008-9977-fb4171199e5a"
      },
      "execution_count": 20,
      "outputs": [
        {
          "output_type": "stream",
          "name": "stdout",
          "text": [
            "Enter a string: Adidas\n",
            "sadidA"
          ]
        }
      ]
    },
    {
      "cell_type": "code",
      "source": [
        "#15. Write a Python program to calculate the factorial of a number provided by the user using a while loop.\n",
        "num = int(input(\"Enter a number: \"))\n",
        "\n",
        "factorial = 1\n",
        "i = 1\n",
        "\n",
        "while i <= num:\n",
        "    factorial *= i\n",
        "    i += 1\n",
        "\n",
        "print(\"Factorial of\", num, \"is\", factorial)\n"
      ],
      "metadata": {
        "colab": {
          "base_uri": "https://localhost:8080/"
        },
        "id": "ZNntf4mQu7hm",
        "outputId": "bfaab34b-f3af-4c0e-b770-807a771cdd6e"
      },
      "execution_count": 21,
      "outputs": [
        {
          "output_type": "stream",
          "name": "stdout",
          "text": [
            "Enter a number: 12\n",
            "Factorial of 12 is 479001600\n"
          ]
        }
      ]
    }
  ]
}